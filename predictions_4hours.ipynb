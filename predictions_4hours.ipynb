{
 "cells": [
  {
   "cell_type": "code",
   "execution_count": 78,
   "metadata": {},
   "outputs": [],
   "source": [
    "from sklearn import neural_network\n",
    "import pandas as pd\n",
    "import numpy as np\n",
    "import matplotlib.pyplot as plt\n",
    "from xgboost import XGBRegressor\n",
    "from sklearn.model_selection import train_test_split\n",
    "from datetime import datetime\n",
    "import math\n",
    "from sklearn.metrics import mean_squared_error\n",
    "from sklearn.metrics import r2_score\n",
    "import seaborn as sns\n",
    "from sklearn.model_selection import GridSearchCV\n",
    "from sklearn.model_selection import learning_curve"
   ]
  },
  {
   "cell_type": "code",
   "execution_count": 79,
   "metadata": {},
   "outputs": [],
   "source": [
    "cleaned_data = pd.read_csv('data/clean_4hours.csv',parse_dates = ['index10'], squeeze=True)\n",
    "cleaned_data = cleaned_data.set_index(pd.DatetimeIndex(cleaned_data['index10'])).drop(['index10'], axis=1)"
   ]
  },
  {
   "cell_type": "code",
   "execution_count": 80,
   "metadata": {
    "scrolled": false
   },
   "outputs": [
    {
     "data": {
      "text/html": [
       "<div>\n",
       "<style scoped>\n",
       "    .dataframe tbody tr th:only-of-type {\n",
       "        vertical-align: middle;\n",
       "    }\n",
       "\n",
       "    .dataframe tbody tr th {\n",
       "        vertical-align: top;\n",
       "    }\n",
       "\n",
       "    .dataframe thead th {\n",
       "        text-align: right;\n",
       "    }\n",
       "</style>\n",
       "<table border=\"1\" class=\"dataframe\">\n",
       "  <thead>\n",
       "    <tr style=\"text-align: right;\">\n",
       "      <th></th>\n",
       "      <th>Humidity</th>\n",
       "      <th>Temperature(C)</th>\n",
       "      <th>GHI</th>\n",
       "      <th>Hour</th>\n",
       "      <th>Month</th>\n",
       "      <th>Output_power</th>\n",
       "      <th>previous</th>\n",
       "    </tr>\n",
       "    <tr>\n",
       "      <th>index10</th>\n",
       "      <th></th>\n",
       "      <th></th>\n",
       "      <th></th>\n",
       "      <th></th>\n",
       "      <th></th>\n",
       "      <th></th>\n",
       "      <th></th>\n",
       "    </tr>\n",
       "  </thead>\n",
       "  <tbody>\n",
       "    <tr>\n",
       "      <th>2020-09-20 20:00:00</th>\n",
       "      <td>77</td>\n",
       "      <td>10</td>\n",
       "      <td>0</td>\n",
       "      <td>21</td>\n",
       "      <td>9</td>\n",
       "      <td>0.00000</td>\n",
       "      <td>0.00000</td>\n",
       "    </tr>\n",
       "    <tr>\n",
       "      <th>2020-09-21 00:00:00</th>\n",
       "      <td>89</td>\n",
       "      <td>10</td>\n",
       "      <td>0</td>\n",
       "      <td>1</td>\n",
       "      <td>9</td>\n",
       "      <td>0.00000</td>\n",
       "      <td>0.00000</td>\n",
       "    </tr>\n",
       "    <tr>\n",
       "      <th>2020-09-21 04:00:00</th>\n",
       "      <td>90</td>\n",
       "      <td>11</td>\n",
       "      <td>101</td>\n",
       "      <td>5</td>\n",
       "      <td>9</td>\n",
       "      <td>0.08138</td>\n",
       "      <td>0.00000</td>\n",
       "    </tr>\n",
       "    <tr>\n",
       "      <th>2020-09-21 08:00:00</th>\n",
       "      <td>75</td>\n",
       "      <td>14</td>\n",
       "      <td>225</td>\n",
       "      <td>9</td>\n",
       "      <td>9</td>\n",
       "      <td>2.84375</td>\n",
       "      <td>0.08138</td>\n",
       "    </tr>\n",
       "    <tr>\n",
       "      <th>2020-09-21 12:00:00</th>\n",
       "      <td>75</td>\n",
       "      <td>14</td>\n",
       "      <td>96</td>\n",
       "      <td>13</td>\n",
       "      <td>9</td>\n",
       "      <td>3.82487</td>\n",
       "      <td>2.84375</td>\n",
       "    </tr>\n",
       "  </tbody>\n",
       "</table>\n",
       "</div>"
      ],
      "text/plain": [
       "                     Humidity  Temperature(C)  GHI  Hour  Month  Output_power  \\\n",
       "index10                                                                         \n",
       "2020-09-20 20:00:00        77              10    0    21      9       0.00000   \n",
       "2020-09-21 00:00:00        89              10    0     1      9       0.00000   \n",
       "2020-09-21 04:00:00        90              11  101     5      9       0.08138   \n",
       "2020-09-21 08:00:00        75              14  225     9      9       2.84375   \n",
       "2020-09-21 12:00:00        75              14   96    13      9       3.82487   \n",
       "\n",
       "                     previous  \n",
       "index10                        \n",
       "2020-09-20 20:00:00   0.00000  \n",
       "2020-09-21 00:00:00   0.00000  \n",
       "2020-09-21 04:00:00   0.00000  \n",
       "2020-09-21 08:00:00   0.08138  \n",
       "2020-09-21 12:00:00   2.84375  "
      ]
     },
     "execution_count": 80,
     "metadata": {},
     "output_type": "execute_result"
    }
   ],
   "source": [
    "cleaned_data.head()"
   ]
  },
  {
   "cell_type": "markdown",
   "metadata": {},
   "source": [
    "## Train-test Split and Transformation "
   ]
  },
  {
   "cell_type": "code",
   "execution_count": 81,
   "metadata": {},
   "outputs": [],
   "source": [
    "x, y = cleaned_data.drop(['Output_power'],axis=1), cleaned_data['Output_power']\n",
    "y = np.sqrt(y)\n",
    "x_train, x_test, y_train, y_test = train_test_split(x, y, test_size=0.20, random_state=42)"
   ]
  },
  {
   "cell_type": "markdown",
   "metadata": {},
   "source": [
    "## Feature Scaling"
   ]
  },
  {
   "cell_type": "code",
   "execution_count": 82,
   "metadata": {},
   "outputs": [],
   "source": [
    "from sklearn.preprocessing import StandardScaler\n",
    "scaler = StandardScaler()\n",
    "x_train = scaler.fit_transform(x_train)\n",
    "x_test = scaler.transform(x_test)"
   ]
  },
  {
   "cell_type": "markdown",
   "metadata": {},
   "source": [
    "## Mape "
   ]
  },
  {
   "cell_type": "code",
   "execution_count": 83,
   "metadata": {},
   "outputs": [],
   "source": [
    "def mean_absolute_percentage_error(y_true, y_pred): \n",
    "    \"\"\"\n",
    "    convert inputs to numpy array.\n",
    "    drop zeros in y_true. \n",
    "    calculate MAPE.\n",
    "    \"\"\"\n",
    "    y_true, y_pred = np.array(y_true), np.array(y_pred)\n",
    "    y_pred = y_pred[y_true != 0]\n",
    "    y_true = y_true[y_true != 0]\n",
    "    return np.mean(np.abs((y_true - y_pred) / y_true)) * 100"
   ]
  },
  {
   "cell_type": "markdown",
   "metadata": {},
   "source": [
    "## KNN"
   ]
  },
  {
   "cell_type": "code",
   "execution_count": 84,
   "metadata": {},
   "outputs": [],
   "source": [
    "from sklearn.neighbors import KNeighborsRegressor\n",
    "model_knn = KNeighborsRegressor(n_neighbors=3, p = 1)\n",
    "model_knn.fit(x_train, y_train)\n",
    "y_pred_knn = model_knn.predict(x_test)"
   ]
  },
  {
   "cell_type": "code",
   "execution_count": 85,
   "metadata": {
    "scrolled": true
   },
   "outputs": [
    {
     "data": {
      "text/html": [
       "<div>\n",
       "<style scoped>\n",
       "    .dataframe tbody tr th:only-of-type {\n",
       "        vertical-align: middle;\n",
       "    }\n",
       "\n",
       "    .dataframe tbody tr th {\n",
       "        vertical-align: top;\n",
       "    }\n",
       "\n",
       "    .dataframe thead th {\n",
       "        text-align: right;\n",
       "    }\n",
       "</style>\n",
       "<table border=\"1\" class=\"dataframe\">\n",
       "  <thead>\n",
       "    <tr style=\"text-align: right;\">\n",
       "      <th></th>\n",
       "      <th>Value</th>\n",
       "    </tr>\n",
       "  </thead>\n",
       "  <tbody>\n",
       "    <tr>\n",
       "      <th>MAPE</th>\n",
       "      <td>19.069518</td>\n",
       "    </tr>\n",
       "    <tr>\n",
       "      <th>MAE</th>\n",
       "      <td>0.078929</td>\n",
       "    </tr>\n",
       "    <tr>\n",
       "      <th>RMSE</th>\n",
       "      <td>0.170713</td>\n",
       "    </tr>\n",
       "    <tr>\n",
       "      <th>R-Squared</th>\n",
       "      <td>0.969146</td>\n",
       "    </tr>\n",
       "    <tr>\n",
       "      <th>Predicted Standard Deviation of Test Set</th>\n",
       "      <td>0.964024</td>\n",
       "    </tr>\n",
       "    <tr>\n",
       "      <th>Actual Standard Deviation of Test Set</th>\n",
       "      <td>0.971870</td>\n",
       "    </tr>\n",
       "  </tbody>\n",
       "</table>\n",
       "</div>"
      ],
      "text/plain": [
       "                                              Value\n",
       "MAPE                                      19.069518\n",
       "MAE                                        0.078929\n",
       "RMSE                                       0.170713\n",
       "R-Squared                                  0.969146\n",
       "Predicted Standard Deviation of Test Set   0.964024\n",
       "Actual Standard Deviation of Test Set      0.971870"
      ]
     },
     "metadata": {},
     "output_type": "display_data"
    }
   ],
   "source": [
    "from sklearn.model_selection import cross_val_score\n",
    "from sklearn.metrics import mean_absolute_error\n",
    "\n",
    "df_results = pd.DataFrame.from_dict({\n",
    "    \n",
    "    'MAPE': mean_absolute_percentage_error(y_test,y_pred_knn),\n",
    "    'MAE': mean_absolute_error(y_test,y_pred_knn),\n",
    "    #'MSE': mean_squared_error(y_test,y_pred_knn),\n",
    "    'RMSE': math.sqrt(mean_squared_error(y_test,y_pred_knn)),\n",
    "    #'nRMSE': (math.sqrt(mean_squared_error(y_test,y_pred_knn)))/y_test.mean(),\n",
    "    'R-Squared': r2_score(y_test, y_pred_knn),\n",
    "    'Predicted Standard Deviation of Test Set': np.std(y_pred_knn),\n",
    "    'Actual Standard Deviation of Test Set': np.std(y_test),\n",
    "    \n",
    "},orient='index', columns=['Value'])\n",
    "display(df_results)\n"
   ]
  },
  {
   "cell_type": "code",
   "execution_count": 86,
   "metadata": {},
   "outputs": [
    {
     "data": {
      "image/png": "[encoded data removed]",
      "text/plain": [
       "<Figure size 360x360 with 1 Axes>"
      ]
     },
     "metadata": {
      "needs_background": "light"
     },
     "output_type": "display_data"
    }
   ],
   "source": [
    "plt.figure(figsize=(5,5))\n",
    "sns.scatterplot(y_test, y_pred_knn, color = '#516BEB')\n",
    "sns.regplot(y_test,y_pred_knn,scatter=False,scatter_kws={'s': 100, 'alpha': 0.5, 'color': '#270082'},\n",
    "            line_kws={'lw': 2, 'color': 'r'})\n",
    "\n",
    "plt.xlabel(\"Actual Output Power of Test data\")\n",
    "plt.ylabel(\"Predicted Output Power of Test Data\")\n",
    "plt.show()"
   ]
  },
  {
   "cell_type": "markdown",
   "metadata": {},
   "source": [
    "## Cross Validation for KNN "
   ]
  },
  {
   "cell_type": "code",
   "execution_count": 87,
   "metadata": {},
   "outputs": [
    {
     "name": "stdout",
     "output_type": "stream",
     "text": [
      "Folds: 10, r2: 0.96807456013801, STD:0.011836539541177674\n"
     ]
    }
   ],
   "source": [
    "from sklearn.model_selection import KFold\n",
    "from sklearn.model_selection import cross_val_score\n",
    "from sklearn.svm import SVC\n",
    "\n",
    "crossvalidation = KFold(n_splits=10, random_state=42, shuffle=True)\n",
    "scores_knn = cross_val_score(model_knn, x_train, y_train, scoring=\"r2\", cv=crossvalidation, n_jobs=1)\n",
    "\n",
    "print(\"Folds: \" + str(len(scores_knn)) + \", r2: \" + str(np.mean(np.abs(scores_knn))) + \", STD:\"+ str(np.std(scores_knn)))\n"
   ]
  },
  {
   "cell_type": "markdown",
   "metadata": {},
   "source": [
    "## XGBoost"
   ]
  },
  {
   "cell_type": "code",
   "execution_count": 89,
   "metadata": {},
   "outputs": [],
   "source": [
    "# xgboost model\n",
    "model_xgboost = XGBRegressor(n_estimators=250, learning_rate=0.1,subsample=.6, max_depth=5)\n",
    "model_xgboost.fit(x_train, y_train)\n",
    "y_pred_xgboost = model_xgboost.predict(x_test)"
   ]
  },
  {
   "cell_type": "code",
   "execution_count": 90,
   "metadata": {},
   "outputs": [
    {
     "data": {
      "text/html": [
       "<div>\n",
       "<style scoped>\n",
       "    .dataframe tbody tr th:only-of-type {\n",
       "        vertical-align: middle;\n",
       "    }\n",
       "\n",
       "    .dataframe tbody tr th {\n",
       "        vertical-align: top;\n",
       "    }\n",
       "\n",
       "    .dataframe thead th {\n",
       "        text-align: right;\n",
       "    }\n",
       "</style>\n",
       "<table border=\"1\" class=\"dataframe\">\n",
       "  <thead>\n",
       "    <tr style=\"text-align: right;\">\n",
       "      <th></th>\n",
       "      <th>Value</th>\n",
       "    </tr>\n",
       "  </thead>\n",
       "  <tbody>\n",
       "    <tr>\n",
       "      <th>MAPE</th>\n",
       "      <td>14.631450</td>\n",
       "    </tr>\n",
       "    <tr>\n",
       "      <th>MAE</th>\n",
       "      <td>0.071536</td>\n",
       "    </tr>\n",
       "    <tr>\n",
       "      <th>RMSE</th>\n",
       "      <td>0.143412</td>\n",
       "    </tr>\n",
       "    <tr>\n",
       "      <th>R-Squared</th>\n",
       "      <td>0.978225</td>\n",
       "    </tr>\n",
       "    <tr>\n",
       "      <th>Standard Deviation of predicted Test Set</th>\n",
       "      <td>0.955452</td>\n",
       "    </tr>\n",
       "    <tr>\n",
       "      <th>Actual Standard Deviation of actual Test Set</th>\n",
       "      <td>0.971870</td>\n",
       "    </tr>\n",
       "  </tbody>\n",
       "</table>\n",
       "</div>"
      ],
      "text/plain": [
       "                                                  Value\n",
       "MAPE                                          14.631450\n",
       "MAE                                            0.071536\n",
       "RMSE                                           0.143412\n",
       "R-Squared                                      0.978225\n",
       "Standard Deviation of predicted Test Set       0.955452\n",
       "Actual Standard Deviation of actual Test Set   0.971870"
      ]
     },
     "metadata": {},
     "output_type": "display_data"
    }
   ],
   "source": [
    "from sklearn.metrics import mean_absolute_error\n",
    "df_results = pd.DataFrame.from_dict({\n",
    "    \n",
    "    'MAPE': mean_absolute_percentage_error(y_test,y_pred_xgboost),\n",
    "    'MAE': mean_absolute_error(y_test,y_pred_xgboost),\n",
    "    #'MSE': mean_squared_error(y_test,y_pred_xgboost),\n",
    "    'RMSE': math.sqrt(mean_squared_error(y_test,y_pred_xgboost)),\n",
    "    'R-Squared': r2_score(y_test, y_pred_xgboost),\n",
    "    'Standard Deviation of predicted Test Set': np.std(y_pred_xgboost),\n",
    "    'Actual Standard Deviation of actual Test Set': np.std(y_test),\n",
    "    \n",
    "   \n",
    "    \n",
    "},orient='index', columns=['Value'])\n",
    "display(df_results)"
   ]
  },
  {
   "cell_type": "code",
   "execution_count": 91,
   "metadata": {
    "scrolled": true
   },
   "outputs": [
    {
     "data": {
      "image/png": "[encoded data removed]",
      "text/plain": [
       "<Figure size 360x360 with 1 Axes>"
      ]
     },
     "metadata": {
      "needs_background": "light"
     },
     "output_type": "display_data"
    }
   ],
   "source": [
    "plt.figure(figsize=(5,5))\n",
    "sns.scatterplot(y_test, y_pred_xgboost, color = '#516BEB')\n",
    "sns.regplot(y_test,y_pred_xgboost,scatter=False,scatter_kws={'s': 100, 'alpha': 0.5, 'color': '#270082'},\n",
    "            line_kws={'lw': 2, 'color': 'r'})\n",
    "\n",
    "plt.xlabel(\"Actual Output Power of Test data\")\n",
    "plt.ylabel(\"Predicted Output Power of Test Data\")\n",
    "\n",
    "plt.show()"
   ]
  },
  {
   "cell_type": "markdown",
   "metadata": {},
   "source": [
    "## Cross Validation of XGBoost"
   ]
  },
  {
   "cell_type": "code",
   "execution_count": 92,
   "metadata": {
    "scrolled": true
   },
   "outputs": [
    {
     "name": "stdout",
     "output_type": "stream",
     "text": [
      "Folds: 10, r2: 0.9806808713494668, STD:0.004146809473685857\n"
     ]
    }
   ],
   "source": [
    "from sklearn.model_selection import KFold\n",
    "from sklearn.model_selection import cross_val_score\n",
    "from sklearn.svm import SVC\n",
    "\n",
    "crossvalidation = KFold(n_splits=10, random_state=42, shuffle=True)\n",
    "scores_xg = cross_val_score(model_xgboost, x_train, y_train, scoring=\"r2\", cv=crossvalidation, n_jobs=1)\n",
    "\n",
    "print(\"Folds: \" + str(len(scores_xg)) + \", r2: \" + str(np.mean(np.abs(scores_xg))) + \", STD:\"+ str(np.std(scores_xg)))"
   ]
  },
  {
   "cell_type": "markdown",
   "metadata": {},
   "source": [
    "## MLP "
   ]
  },
  {
   "cell_type": "code",
   "execution_count": 107,
   "metadata": {},
   "outputs": [],
   "source": [
    "model_mlp = neural_network.MLPRegressor(hidden_layer_sizes=(80,80),\n",
    "                                        activation='relu',\n",
    "                                        solver='adam',\n",
    "                                        learning_rate='invscaling',\n",
    "                                        max_iter=200, \n",
    "                                        \n",
    "                           )\n",
    "model_mlp.fit(x_train, y_train)\n",
    "y_pred_mlp = model_mlp.predict(x_test)"
   ]
  },
  {
   "cell_type": "code",
   "execution_count": 108,
   "metadata": {
    "scrolled": true
   },
   "outputs": [
    {
     "data": {
      "text/html": [
       "<div>\n",
       "<style scoped>\n",
       "    .dataframe tbody tr th:only-of-type {\n",
       "        vertical-align: middle;\n",
       "    }\n",
       "\n",
       "    .dataframe tbody tr th {\n",
       "        vertical-align: top;\n",
       "    }\n",
       "\n",
       "    .dataframe thead th {\n",
       "        text-align: right;\n",
       "    }\n",
       "</style>\n",
       "<table border=\"1\" class=\"dataframe\">\n",
       "  <thead>\n",
       "    <tr style=\"text-align: right;\">\n",
       "      <th></th>\n",
       "      <th>Value</th>\n",
       "    </tr>\n",
       "  </thead>\n",
       "  <tbody>\n",
       "    <tr>\n",
       "      <th>MAPE</th>\n",
       "      <td>23.244810</td>\n",
       "    </tr>\n",
       "    <tr>\n",
       "      <th>MAE</th>\n",
       "      <td>0.089836</td>\n",
       "    </tr>\n",
       "    <tr>\n",
       "      <th>RMSE</th>\n",
       "      <td>0.151835</td>\n",
       "    </tr>\n",
       "    <tr>\n",
       "      <th>R-Squared</th>\n",
       "      <td>0.975592</td>\n",
       "    </tr>\n",
       "    <tr>\n",
       "      <th>Standard Deviation of predicted Test Set</th>\n",
       "      <td>0.945021</td>\n",
       "    </tr>\n",
       "    <tr>\n",
       "      <th>Standard Deviation of actual Test Set</th>\n",
       "      <td>0.971870</td>\n",
       "    </tr>\n",
       "  </tbody>\n",
       "</table>\n",
       "</div>"
      ],
      "text/plain": [
       "                                              Value\n",
       "MAPE                                      23.244810\n",
       "MAE                                        0.089836\n",
       "RMSE                                       0.151835\n",
       "R-Squared                                  0.975592\n",
       "Standard Deviation of predicted Test Set   0.945021\n",
       "Standard Deviation of actual Test Set      0.971870"
      ]
     },
     "metadata": {},
     "output_type": "display_data"
    }
   ],
   "source": [
    "from sklearn.metrics import mean_absolute_error\n",
    "df_results = pd.DataFrame.from_dict({\n",
    "    \n",
    "    'MAPE': mean_absolute_percentage_error(y_test,y_pred_mlp),\n",
    "    'MAE': mean_absolute_error(y_test,y_pred_mlp),\n",
    "    'RMSE': math.sqrt(mean_squared_error(y_test,y_pred_mlp)),\n",
    "    'R-Squared': r2_score(y_test, y_pred_mlp),\n",
    "    'Standard Deviation of predicted Test Set': np.std(y_pred_mlp),\n",
    "    'Standard Deviation of actual Test Set': np.std(y_test),\n",
    "    \n",
    "},orient='index', columns=['Value'])\n",
    "display(df_results)"
   ]
  },
  {
   "cell_type": "code",
   "execution_count": 109,
   "metadata": {
    "scrolled": true
   },
   "outputs": [
    {
     "data": {
      "image/png": "[encoded data removed]",
      "text/plain": [
       "<Figure size 360x360 with 1 Axes>"
      ]
     },
     "metadata": {
      "needs_background": "light"
     },
     "output_type": "display_data"
    }
   ],
   "source": [
    "plt.figure(figsize=(5,5))\n",
    "sns.scatterplot(y_test, y_pred_mlp, color = '#516BEB')\n",
    "sns.regplot(y_test,y_pred_mlp,scatter=False,scatter_kws={'s': 100, 'alpha': 0.5, 'color': '#270082'},\n",
    "            line_kws={'lw': 2, 'color': 'r'})\n",
    "\n",
    "plt.xlabel(\"Actual Output Power of Test data\")\n",
    "plt.ylabel(\"Predicted Output Power of Test Data\")\n",
    "plt.show()"
   ]
  },
  {
   "cell_type": "markdown",
   "metadata": {},
   "source": [
    "## Cross Validation MLP"
   ]
  },
  {
   "cell_type": "code",
   "execution_count": 110,
   "metadata": {},
   "outputs": [
    {
     "name": "stdout",
     "output_type": "stream",
     "text": [
      "Folds: 10, r2: 0.9688014518633541, STD:0.007170211909437196\n"
     ]
    }
   ],
   "source": [
    "from sklearn.model_selection import KFold\n",
    "from sklearn.model_selection import cross_val_score\n",
    "from sklearn.svm import SVC\n",
    "\n",
    "crossvalidation = KFold(n_splits=10, random_state=42, shuffle=True)\n",
    "scores_mlp = cross_val_score(model_mlp, x_train, y_train, scoring=\"r2\", cv=crossvalidation, n_jobs=1)\n",
    "\n",
    "print(\"Folds: \" + str(len(scores_mlp)) + \", r2: \" + str(np.mean(np.abs(scores_mlp))) + \", STD:\"+ str(np.std(scores_mlp)))"
   ]
  },
  {
   "cell_type": "markdown",
   "metadata": {},
   "source": [
    "## SVR "
   ]
  },
  {
   "cell_type": "code",
   "execution_count": 111,
   "metadata": {},
   "outputs": [],
   "source": [
    "# SVR model with sklearn\n",
    "from sklearn.svm import SVR\n",
    "model_svm = SVR(C =5, kernel='rbf', gamma= 0.6)\n",
    "model_svm.fit(x_train, y_train.ravel())\n",
    "y_pred_svm = model_svm.predict(x_test)"
   ]
  },
  {
   "cell_type": "code",
   "execution_count": 112,
   "metadata": {},
   "outputs": [
    {
     "data": {
      "text/html": [
       "<div>\n",
       "<style scoped>\n",
       "    .dataframe tbody tr th:only-of-type {\n",
       "        vertical-align: middle;\n",
       "    }\n",
       "\n",
       "    .dataframe tbody tr th {\n",
       "        vertical-align: top;\n",
       "    }\n",
       "\n",
       "    .dataframe thead th {\n",
       "        text-align: right;\n",
       "    }\n",
       "</style>\n",
       "<table border=\"1\" class=\"dataframe\">\n",
       "  <thead>\n",
       "    <tr style=\"text-align: right;\">\n",
       "      <th></th>\n",
       "      <th>Value</th>\n",
       "    </tr>\n",
       "  </thead>\n",
       "  <tbody>\n",
       "    <tr>\n",
       "      <th>MAPE</th>\n",
       "      <td>25.454950</td>\n",
       "    </tr>\n",
       "    <tr>\n",
       "      <th>MAE</th>\n",
       "      <td>0.106968</td>\n",
       "    </tr>\n",
       "    <tr>\n",
       "      <th>RMSE</th>\n",
       "      <td>0.167582</td>\n",
       "    </tr>\n",
       "    <tr>\n",
       "      <th>R-Squared</th>\n",
       "      <td>0.970267</td>\n",
       "    </tr>\n",
       "    <tr>\n",
       "      <th>Standard Deviation of predicted Test Set</th>\n",
       "      <td>0.944816</td>\n",
       "    </tr>\n",
       "    <tr>\n",
       "      <th>Standard Deviation of actual Test Set</th>\n",
       "      <td>0.971870</td>\n",
       "    </tr>\n",
       "  </tbody>\n",
       "</table>\n",
       "</div>"
      ],
      "text/plain": [
       "                                              Value\n",
       "MAPE                                      25.454950\n",
       "MAE                                        0.106968\n",
       "RMSE                                       0.167582\n",
       "R-Squared                                  0.970267\n",
       "Standard Deviation of predicted Test Set   0.944816\n",
       "Standard Deviation of actual Test Set      0.971870"
      ]
     },
     "metadata": {},
     "output_type": "display_data"
    }
   ],
   "source": [
    "from sklearn.metrics import mean_absolute_error\n",
    "df_results = pd.DataFrame.from_dict({\n",
    "    \n",
    "    'MAPE': mean_absolute_percentage_error(y_test,y_pred_svm),\n",
    "    'MAE': mean_absolute_error(y_test,y_pred_svm),\n",
    "    'RMSE': math.sqrt(mean_squared_error(y_test,y_pred_svm)),\n",
    "    'R-Squared': r2_score(y_test, y_pred_svm),\n",
    "    'Standard Deviation of predicted Test Set': np.std(y_pred_svm),\n",
    "    'Standard Deviation of actual Test Set': np.std(y_test),\n",
    "    \n",
    "},orient='index', columns=['Value'])\n",
    "display(df_results)"
   ]
  },
  {
   "cell_type": "code",
   "execution_count": 113,
   "metadata": {},
   "outputs": [
    {
     "data": {
      "image/png": "[encoded data removed]",
      "text/plain": [
       "<Figure size 360x360 with 1 Axes>"
      ]
     },
     "metadata": {
      "needs_background": "light"
     },
     "output_type": "display_data"
    }
   ],
   "source": [
    "plt.figure(figsize=(5,5))\n",
    "#plt.scatter(y_test, y_pred_xgboost)\n",
    "sns.scatterplot(y_test, y_pred_svm,color = '#516BEB')\n",
    "\n",
    "sns.regplot(y_test,y_pred_svm,scatter = False,scatter_kws = {'s': 100, 'alpha': 0.5, 'color': '#270082'},\n",
    "            line_kws={'lw': 2, 'color': 'r'})\n",
    "plt.xlabel(\"Actual Output Power of Test data\")\n",
    "plt.ylabel(\"Predicted Output Power of Test Data\")\n",
    "plt.show()"
   ]
  },
  {
   "cell_type": "markdown",
   "metadata": {},
   "source": [
    "## Cross Validation of SVR"
   ]
  },
  {
   "cell_type": "code",
   "execution_count": 114,
   "metadata": {},
   "outputs": [
    {
     "name": "stdout",
     "output_type": "stream",
     "text": [
      "Folds: 10, r2: 0.9666137389024831, STD:0.010218821586679187\n"
     ]
    }
   ],
   "source": [
    "from sklearn.model_selection import KFold\n",
    "from sklearn.model_selection import cross_val_score\n",
    "from sklearn.svm import SVC\n",
    "\n",
    "crossvalidation = KFold(n_splits=10, random_state=42, shuffle=True)\n",
    "scores_svr = cross_val_score(model_svm, x_train, y_train, scoring=\"r2\", cv=crossvalidation, n_jobs=1)\n",
    "\n",
    "print(\"Folds: \" + str(len(scores_svr)) + \", r2: \" + str(np.mean(np.abs(scores_svr))) + \", STD:\"+ str(np.std(scores_svr)))"
   ]
  },
  {
   "cell_type": "markdown",
   "metadata": {},
   "source": [
    "## Random Forest"
   ]
  },
  {
   "cell_type": "code",
   "execution_count": 116,
   "metadata": {},
   "outputs": [],
   "source": [
    "# Random Forest model with sklearn\n",
    "from sklearn.ensemble import RandomForestRegressor\n",
    "model_random_forest = RandomForestRegressor(n_estimators=200, max_features= 'log2')\n",
    "model_random_forest.fit(x_train, y_train)\n",
    "y_pred_random_forest = model_random_forest.predict(x_test)"
   ]
  },
  {
   "cell_type": "code",
   "execution_count": 117,
   "metadata": {},
   "outputs": [
    {
     "data": {
      "text/html": [
       "<div>\n",
       "<style scoped>\n",
       "    .dataframe tbody tr th:only-of-type {\n",
       "        vertical-align: middle;\n",
       "    }\n",
       "\n",
       "    .dataframe tbody tr th {\n",
       "        vertical-align: top;\n",
       "    }\n",
       "\n",
       "    .dataframe thead th {\n",
       "        text-align: right;\n",
       "    }\n",
       "</style>\n",
       "<table border=\"1\" class=\"dataframe\">\n",
       "  <thead>\n",
       "    <tr style=\"text-align: right;\">\n",
       "      <th></th>\n",
       "      <th>Value</th>\n",
       "    </tr>\n",
       "  </thead>\n",
       "  <tbody>\n",
       "    <tr>\n",
       "      <th>MAPE</th>\n",
       "      <td>16.459632</td>\n",
       "    </tr>\n",
       "    <tr>\n",
       "      <th>MAE</th>\n",
       "      <td>0.068444</td>\n",
       "    </tr>\n",
       "    <tr>\n",
       "      <th>RMSE</th>\n",
       "      <td>0.138665</td>\n",
       "    </tr>\n",
       "    <tr>\n",
       "      <th>R-Squared</th>\n",
       "      <td>0.979643</td>\n",
       "    </tr>\n",
       "    <tr>\n",
       "      <th>Predicted Standard Deviation of Test Set</th>\n",
       "      <td>0.941778</td>\n",
       "    </tr>\n",
       "    <tr>\n",
       "      <th>Actual Standard Deviation of Test Set</th>\n",
       "      <td>0.971870</td>\n",
       "    </tr>\n",
       "  </tbody>\n",
       "</table>\n",
       "</div>"
      ],
      "text/plain": [
       "                                              Value\n",
       "MAPE                                      16.459632\n",
       "MAE                                        0.068444\n",
       "RMSE                                       0.138665\n",
       "R-Squared                                  0.979643\n",
       "Predicted Standard Deviation of Test Set   0.941778\n",
       "Actual Standard Deviation of Test Set      0.971870"
      ]
     },
     "metadata": {},
     "output_type": "display_data"
    }
   ],
   "source": [
    "from sklearn.metrics import mean_absolute_error\n",
    "df_results = pd.DataFrame.from_dict({\n",
    "    \n",
    "    'MAPE': mean_absolute_percentage_error(y_test,y_pred_random_forest),\n",
    "    'MAE': mean_absolute_error(y_test,y_pred_random_forest),\n",
    "    #'MSE': mean_squared_error(y_test,y_pred_svm),\n",
    "    'RMSE': math.sqrt(mean_squared_error(y_test,y_pred_random_forest)),\n",
    "    'R-Squared': r2_score(y_test, y_pred_random_forest),\n",
    "    'Predicted Standard Deviation of Test Set': np.std(y_pred_random_forest),\n",
    "    'Actual Standard Deviation of Test Set': np.std(y_test),\n",
    "    \n",
    "},orient='index', columns=['Value'])\n",
    "display(df_results)"
   ]
  },
  {
   "cell_type": "code",
   "execution_count": 118,
   "metadata": {},
   "outputs": [
    {
     "data": {
      "image/png": "[encoded data removed]",
      "text/plain": [
       "<Figure size 360x360 with 1 Axes>"
      ]
     },
     "metadata": {
      "needs_background": "light"
     },
     "output_type": "display_data"
    }
   ],
   "source": [
    "plt.figure(figsize=(5,5))\n",
    "#plt.scatter(y_test, y_pred_xgboost)\n",
    "sns.scatterplot(y_test, y_pred_random_forest,color = '#516BEB')\n",
    "\n",
    "sns.regplot(y_test,y_pred_random_forest,scatter = False,scatter_kws = {'s': 100, 'alpha': 0.5, 'color': '#270082'},\n",
    "            line_kws={'lw': 2, 'color': 'r'})\n",
    "plt.xlabel(\"Actual Output Power of Test data\")\n",
    "plt.ylabel(\"Predicted Output Power of Test Data\")\n",
    "plt.show()"
   ]
  },
  {
   "cell_type": "markdown",
   "metadata": {},
   "source": [
    "## Cross Validation RF"
   ]
  },
  {
   "cell_type": "code",
   "execution_count": 119,
   "metadata": {},
   "outputs": [
    {
     "name": "stdout",
     "output_type": "stream",
     "text": [
      "Folds: 10, r2: 0.9796720733308492, STD:0.004671850214893718\n"
     ]
    }
   ],
   "source": [
    "from sklearn.model_selection import KFold\n",
    "from sklearn.model_selection import cross_val_score\n",
    "from sklearn.svm import SVC\n",
    "\n",
    "crossvalidation = KFold(n_splits=10, random_state=42, shuffle=True)\n",
    "scores_rf = cross_val_score(model_random_forest, x_train, y_train, scoring=\"r2\", cv=crossvalidation, n_jobs=1)\n",
    "\n",
    "print(\"Folds: \" + str(len(scores_rf)) + \", r2: \" + str(np.mean(np.abs(scores_rf))) + \", STD:\"+ str(np.std(scores_rf)))\n",
    "\n",
    "#neg_mean_absolute_error\n",
    "\n"
   ]
  }
 ],
 "metadata": {
  "kernelspec": {
   "display_name": "Python 3",
   "language": "python",
   "name": "python3"
  },
  "language_info": {
   "codemirror_mode": {
    "name": "ipython",
    "version": 3
   },
   "file_extension": ".py",
   "mimetype": "text/x-python",
   "name": "python",
   "nbconvert_exporter": "python",
   "pygments_lexer": "ipython3",
   "version": "3.8.3"
  }
 },
 "nbformat": 4,
 "nbformat_minor": 4
}
